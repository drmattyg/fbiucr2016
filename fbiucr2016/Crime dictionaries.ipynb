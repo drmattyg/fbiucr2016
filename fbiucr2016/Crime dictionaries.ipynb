{
 "cells": [
  {
   "cell_type": "markdown",
   "metadata": {},
   "source": [
    "### 1. Manually creating test output\n",
    "I pull out some test data. I make sure to include one of the 119 situation E cases (multiple offenders and multiple victims), so as to have partial lines which contain both offenders and victims. I manually create three dictionaries, to confirm that this is the format we are aiming for with my code. I can also use these to test my code against."
   ]
  },
  {
   "cell_type": "code",
   "execution_count": 2,
   "metadata": {
    "collapsed": true
   },
   "outputs": [],
   "source": [
    "import re\n",
    "import sys"
   ]
  },
  {
   "cell_type": "code",
   "execution_count": 3,
   "metadata": {
    "collapsed": true
   },
   "outputs": [],
   "source": [
    "with open('../data/2016 SHR FIle LIst.txt') as f:\n",
    "    lines = f.readlines()"
   ]
  },
  {
   "cell_type": "code",
   "execution_count": 4,
   "metadata": {
    "collapsed": true
   },
   "outputs": [],
   "source": [
    "test = lines[2181-1:2191-1]  #Atom: three lines 2181:2190"
   ]
  },
  {
   "cell_type": "code",
   "execution_count": 5,
   "metadata": {},
   "outputs": [
    {
     "data": {
      "text/plain": [
       "['B                                                           PAGE  53\\n',\n",
       " '1                                SUPPLEMENTARY HOMICIDE REPORT - FILE LISTING 2016                             UCR44300    07/07/17\\n',\n",
       " ' SWITCH = N                                     BY STATE WITHIN GROUP\\n',\n",
       " '0                                      VICTIM                 OFFENDER\\n',\n",
       " '      AGENCY   G MO HOM  INC#  SIT    A  S  R  E    A  S  R  E  WEAP  REL  CIR SUB        AGENCY NAME         STATE\\n',\n",
       " '0   04 CA03604 2 12  A    001   E    22  M  W  H   21  M  W  H   11    AQ   18       FONTANA                   CALIF\\n',\n",
       " '                                     22  M  W  H   19  M  B  N   11    AQ   18\\n',\n",
       " '0   04 CA03607 2 01  A    001   D    60  M  W  N   71  M  W  N   11    IL   26       ONTARIO                   CALIF\\n',\n",
       " '                                     59  F  W  N\\n',\n",
       " '    04 CA03607 2     A    002   A    33  M  W  H   37  M  W  H   11    FR   99       ONTARIO                   CALIF\\n']"
      ]
     },
     "execution_count": 5,
     "metadata": {},
     "output_type": "execute_result"
    }
   ],
   "source": [
    "test"
   ]
  },
  {
   "cell_type": "code",
   "execution_count": 6,
   "metadata": {
    "collapsed": true
   },
   "outputs": [],
   "source": [
    "crime1a = test[5]\n",
    "crime1b = test[6]\n",
    "crime2a = test[7]\n",
    "crime2b = test[8]\n",
    "crime3 = test[9]"
   ]
  },
  {
   "cell_type": "code",
   "execution_count": 7,
   "metadata": {
    "collapsed": true
   },
   "outputs": [],
   "source": [
    "H = [\"STATE_NUM\",\"AGENCY\",\"G\",\"MO\",\"HOM\",\"INC_NUM\",\"SIT\", \"VICTIMS\", \"OFFENDERS\",\"AGENCY NAME\",\"STATE\"\n",
    "]  #Added State_num field "
   ]
  },
  {
   "cell_type": "code",
   "execution_count": 8,
   "metadata": {
    "collapsed": true
   },
   "outputs": [],
   "source": [
    "V = [\"VA\",\"VS\",\"VR\",\"VE\"]"
   ]
  },
  {
   "cell_type": "code",
   "execution_count": 9,
   "metadata": {
    "collapsed": true
   },
   "outputs": [],
   "source": [
    "O = [\"OA\",\"OS\",\"OR\",\"OE\",\"OWEAP\",\"OREL\",\"OCIR\",\"OSUB\"]"
   ]
  },
  {
   "cell_type": "code",
   "execution_count": 10,
   "metadata": {},
   "outputs": [
    {
     "data": {
      "text/plain": [
       "'0   04 CA03604 2 12  A    001   E    22  M  W  H   21  M  W  H   11    AQ   18       FONTANA                   CALIF\\n'"
      ]
     },
     "execution_count": 10,
     "metadata": {},
     "output_type": "execute_result"
    }
   ],
   "source": [
    "crime1a"
   ]
  },
  {
   "cell_type": "code",
   "execution_count": 11,
   "metadata": {},
   "outputs": [
    {
     "data": {
      "text/plain": [
       "'                                     22  M  W  H   19  M  B  N   11    AQ   18\\n'"
      ]
     },
     "execution_count": 11,
     "metadata": {},
     "output_type": "execute_result"
    }
   ],
   "source": [
    "crime1b  #partial line with victim AND offender because 'SIT' == 'E'"
   ]
  },
  {
   "cell_type": "code",
   "execution_count": 12,
   "metadata": {
    "collapsed": true
   },
   "outputs": [],
   "source": [
    "#length 2 list of dictionaries\n",
    "crime1_v = [{ V[0]: '22', V[1]: 'M', V[2]: 'W', V[3]: 'H' }, { V[0]: '22', V[1]: 'M', V[2]: 'W', V[3]: 'H' }]\n",
    "#length 2 list of dictionaries\n",
    "crime1_o = [{ O[0]: '21', O[1]: 'M', O[2]: 'W', O[3]: 'H', O[4]: '11', O[5]: 'AQ', O[6]: '18', O[7]: ''}, { O[0]: '19', O[1]: 'M', O[2]: 'B', O[3]: 'N', O[4]: '11', O[5]: 'AQ', O[6]: '18', O[7]: ''}] \n",
    "crime1_dict = { H[0]: '04', H[1]: 'CA03604', H[2]: '2', H[3]: '12', H[4]: 'A', H[5]: '001', H[6]: 'E', H[7]: crime1_v, H[8]: crime1_o, H[9]: 'FONTANA', H[10]: 'CALIF'}"
   ]
  },
  {
   "cell_type": "code",
   "execution_count": 13,
   "metadata": {},
   "outputs": [
    {
     "data": {
      "text/plain": [
       "{'AGENCY': 'CA03604',\n",
       " 'AGENCY NAME': 'FONTANA',\n",
       " 'G': '2',\n",
       " 'HOM': 'A',\n",
       " 'INC_NUM': '001',\n",
       " 'MO': '12',\n",
       " 'OFFENDERS': [{'OA': '21',\n",
       "   'OCIR': '18',\n",
       "   'OE': 'H',\n",
       "   'OR': 'W',\n",
       "   'OREL': 'AQ',\n",
       "   'OS': 'M',\n",
       "   'OSUB': '',\n",
       "   'OWEAP': '11'},\n",
       "  {'OA': '19',\n",
       "   'OCIR': '18',\n",
       "   'OE': 'N',\n",
       "   'OR': 'B',\n",
       "   'OREL': 'AQ',\n",
       "   'OS': 'M',\n",
       "   'OSUB': '',\n",
       "   'OWEAP': '11'}],\n",
       " 'SIT': 'E',\n",
       " 'STATE': 'CALIF',\n",
       " 'STATE_NUM': '04',\n",
       " 'VICTIMS': [{'VA': '22', 'VE': 'H', 'VR': 'W', 'VS': 'M'},\n",
       "  {'VA': '22', 'VE': 'H', 'VR': 'W', 'VS': 'M'}]}"
      ]
     },
     "execution_count": 13,
     "metadata": {},
     "output_type": "execute_result"
    }
   ],
   "source": [
    "crime1_dict"
   ]
  },
  {
   "cell_type": "code",
   "execution_count": 14,
   "metadata": {},
   "outputs": [
    {
     "data": {
      "text/plain": [
       "'0   04 CA03607 2 01  A    001   D    60  M  W  N   71  M  W  N   11    IL   26       ONTARIO                   CALIF\\n'"
      ]
     },
     "execution_count": 14,
     "metadata": {},
     "output_type": "execute_result"
    }
   ],
   "source": [
    "crime2a "
   ]
  },
  {
   "cell_type": "code",
   "execution_count": 15,
   "metadata": {},
   "outputs": [
    {
     "data": {
      "text/plain": [
       "'                                     59  F  W  N\\n'"
      ]
     },
     "execution_count": 15,
     "metadata": {},
     "output_type": "execute_result"
    }
   ],
   "source": [
    "crime2b"
   ]
  },
  {
   "cell_type": "code",
   "execution_count": 16,
   "metadata": {
    "collapsed": true
   },
   "outputs": [],
   "source": [
    "#length 2 list of victim dictionaries               \n",
    "crime2_v = [{ V[0]: '60', V[1]: 'M', V[2]: 'W', V[3]: 'N' }, {V[0]: '59', V[1]: 'F', V[2]: 'W', V[3]: 'N'}]\n",
    "#length 1 list of offender dictionaries\n",
    "crime2_o = [{ O[0]: '71', O[1]: 'M', O[2]: 'W', O[3]: 'N', O[4]: '11', O[5]: 'IL', O[6]: '26', O[7]: '', }] \n",
    "crime2_dict = { H[0]: '04', H[1]: 'CA03607', H[2]: '2', H[3]: '01', H[4]: 'A', H[5]: '001', H[6]: 'D', H[7]: crime2_v, H[8]: crime2_o, H[9]: 'ONTARIO', H[10]: 'CALIF'}  "
   ]
  },
  {
   "cell_type": "code",
   "execution_count": 17,
   "metadata": {},
   "outputs": [
    {
     "data": {
      "text/plain": [
       "{'AGENCY': 'CA03607',\n",
       " 'AGENCY NAME': 'ONTARIO',\n",
       " 'G': '2',\n",
       " 'HOM': 'A',\n",
       " 'INC_NUM': '001',\n",
       " 'MO': '01',\n",
       " 'OFFENDERS': [{'OA': '71',\n",
       "   'OCIR': '26',\n",
       "   'OE': 'N',\n",
       "   'OR': 'W',\n",
       "   'OREL': 'IL',\n",
       "   'OS': 'M',\n",
       "   'OSUB': '',\n",
       "   'OWEAP': '11'}],\n",
       " 'SIT': 'D',\n",
       " 'STATE': 'CALIF',\n",
       " 'STATE_NUM': '04',\n",
       " 'VICTIMS': [{'VA': '60', 'VE': 'N', 'VR': 'W', 'VS': 'M'},\n",
       "  {'VA': '59', 'VE': 'N', 'VR': 'W', 'VS': 'F'}]}"
      ]
     },
     "execution_count": 17,
     "metadata": {},
     "output_type": "execute_result"
    }
   ],
   "source": [
    "crime2_dict"
   ]
  },
  {
   "cell_type": "code",
   "execution_count": 18,
   "metadata": {},
   "outputs": [
    {
     "data": {
      "text/plain": [
       "'    04 CA03607 2     A    002   A    33  M  W  H   37  M  W  H   11    FR   99       ONTARIO                   CALIF\\n'"
      ]
     },
     "execution_count": 18,
     "metadata": {},
     "output_type": "execute_result"
    }
   ],
   "source": [
    "crime3"
   ]
  },
  {
   "cell_type": "code",
   "execution_count": 19,
   "metadata": {
    "collapsed": true
   },
   "outputs": [],
   "source": [
    "#length 1 list of offender dictionaries\n",
    "crime3_v = [{ V[0]: '33', V[1]: 'M', V[2]: 'W', V[3]: 'H' }]\n",
    "#length 1 list of offender dictionaries\n",
    "crime3_o = [{ O[0]: '37', O[1]: 'M', O[2]: 'W', O[3]: 'H', O[4]: '11', O[5]: 'FR', O[6]: '99', O[7]: '', }] \n",
    "#When month is empty, we want to bring it down from previous crime\n",
    "crime3_dict = { H[0]: '04', H[1]: 'CA03607', H[2]: '2', H[3]: '01', H[4]: 'A', H[5]: '002', H[6]: 'A', H[7]: crime3_v, H[8]: crime3_o, H[9]: 'ONTARIO', H[10]: 'CALIF'}  "
   ]
  },
  {
   "cell_type": "code",
   "execution_count": 20,
   "metadata": {},
   "outputs": [
    {
     "data": {
      "text/plain": [
       "{'AGENCY': 'CA03607',\n",
       " 'AGENCY NAME': 'ONTARIO',\n",
       " 'G': '2',\n",
       " 'HOM': 'A',\n",
       " 'INC_NUM': '002',\n",
       " 'MO': '01',\n",
       " 'OFFENDERS': [{'OA': '37',\n",
       "   'OCIR': '99',\n",
       "   'OE': 'H',\n",
       "   'OR': 'W',\n",
       "   'OREL': 'FR',\n",
       "   'OS': 'M',\n",
       "   'OSUB': '',\n",
       "   'OWEAP': '11'}],\n",
       " 'SIT': 'A',\n",
       " 'STATE': 'CALIF',\n",
       " 'STATE_NUM': '04',\n",
       " 'VICTIMS': [{'VA': '33', 'VE': 'H', 'VR': 'W', 'VS': 'M'}]}"
      ]
     },
     "execution_count": 20,
     "metadata": {},
     "output_type": "execute_result"
    }
   ],
   "source": [
    "crime3_dict"
   ]
  },
  {
   "cell_type": "markdown",
   "metadata": {},
   "source": [
    "Question 1: Do we want all dictionary values to be strings, even if they are actually integers - e.g. VA.\n",
    "A: integers are preferable. "
   ]
  },
  {
   "cell_type": "markdown",
   "metadata": {},
   "source": [
    "Question 2: Do we have an idea what the random 0 at the start of the line denotes? And do we want to discard it?\n",
    "A: discard."
   ]
  },
  {
   "cell_type": "markdown",
   "metadata": {
    "collapsed": true
   },
   "source": [
    "Question 3: Am I correct to code empty cells as '' ?\n",
    "A: None"
   ]
  },
  {
   "cell_type": "markdown",
   "metadata": {},
   "source": [
    "Question 4: Ultimately, what should I do with individual crime dictionaries? Put them each in separate files? Or collect them all into one big object (such as dictionary)? We would then use json.dump(dict, file) to convert to json.\n",
    "A: List of dictionaries"
   ]
  },
  {
   "cell_type": "markdown",
   "metadata": {},
   "source": [
    "Question 5: Do we want to create a unique id for each crime?\n",
    "A: 1). integer numbers. SHR0, SHR1.\n",
    "2). UUID. Unique identifier."
   ]
  },
  {
   "cell_type": "markdown",
   "metadata": {},
   "source": [
    "### 2. Starting to build code"
   ]
  },
  {
   "cell_type": "code",
   "execution_count": 66,
   "metadata": {},
   "outputs": [
    {
     "data": {
      "text/plain": [
       "[(4, 7),\n",
       " (7, 15),\n",
       " (15, 17),\n",
       " (17, 21),\n",
       " (21, 26),\n",
       " (26, 32),\n",
       " (32, 37),\n",
       " (37, 51),\n",
       " (51, 85),\n",
       " (85, 111)]"
      ]
     },
     "execution_count": 66,
     "metadata": {},
     "output_type": "execute_result"
    }
   ],
   "source": [
    "#Starting from 1, number of bytes to the left\n",
    "field_offsets = [4, 7, 15, 17, 21, 26, 32, 37, 51, 85, 111]\n",
    "victim_offsets = [37, 41, 44, 47]\n",
    "offender_offsets = [51, 55, 58, 61, 65, 71, 76, 81]\n",
    "\n",
    "def create_tuples(l):\n",
    "    return [(l[i], l[i + 1]) for i in range(len(l) - 1)]\n",
    "\n",
    "field_tuples = create_tuples(field_offsets)\n",
    "field_tuples.append\n",
    "        \n",
    "    "
   ]
  },
  {
   "cell_type": "code",
   "execution_count": 61,
   "metadata": {},
   "outputs": [],
   "source": [
    "# function to deal with full lines:\n",
    "def full(full_line):\n",
    "    crime_dict = {}\n",
    "    \n",
    "    victim_dict = {}\n",
    "    for i, j in enumerate(victim_offsets):\n",
    "        j2 = victim_offsets[i+1]\n",
    "        segment = full_line[j:j2]\n",
    "        segment = segment.strip()\n",
    "        if segment == '':\n",
    "            segment = None\n",
    "        \n",
    "        victim_dict[V[i]] = segment\n",
    "        \n",
    "    victim_list = [victim_dict]\n",
    "    \n",
    "    offender_dict = {}\n",
    "    \n",
    "    \n",
    "        \n",
    "    \n",
    "    \n",
    "    for i in range(len(H)):\n",
    "        crime_dict[H(i)] = L(i)"
   ]
  },
  {
   "cell_type": "code",
   "execution_count": 42,
   "metadata": {},
   "outputs": [
    {
     "name": "stdout",
     "output_type": "stream",
     "text": [
      "0 37\n",
      "1 41\n",
      "2 44\n",
      "3 47\n"
     ]
    }
   ],
   "source": [
    "for i, j in enumerate(victim_offsets):\n",
    "    print (i, j)\n"
   ]
  },
  {
   "cell_type": "code",
   "execution_count": 43,
   "metadata": {},
   "outputs": [],
   "source": [
    "j2 = victim_offsets[1]\n",
    "segment = full_line[37:41]\n",
    "segment = segment.strip()\n",
    "if segment == '':\n",
    "    segment = None\n"
   ]
  },
  {
   "cell_type": "code",
   "execution_count": 44,
   "metadata": {},
   "outputs": [
    {
     "data": {
      "text/plain": [
       "'    04 CA03607 2     A    002   A    33  M  W  H   37  M  W  H   11    FR   99       ONTARIO                   CALIF\\n'"
      ]
     },
     "execution_count": 44,
     "metadata": {},
     "output_type": "execute_result"
    }
   ],
   "source": [
    "full_line = test[9]\n",
    "full_line"
   ]
  },
  {
   "cell_type": "code",
   "execution_count": 45,
   "metadata": {},
   "outputs": [
    {
     "ename": "TypeError",
     "evalue": "slice indices must be integers or None or have an __index__ method",
     "output_type": "error",
     "traceback": [
      "\u001b[0;31m---------------------------------------------------------------------------\u001b[0m",
      "\u001b[0;31mTypeError\u001b[0m                                 Traceback (most recent call last)",
      "\u001b[0;32m<ipython-input-45-32002a636ef1>\u001b[0m in \u001b[0;36m<module>\u001b[0;34m()\u001b[0m\n\u001b[1;32m      1\u001b[0m \u001b[0;32mfor\u001b[0m \u001b[0mi\u001b[0m\u001b[0;34m,\u001b[0m \u001b[0mj\u001b[0m \u001b[0;32min\u001b[0m \u001b[0menumerate\u001b[0m\u001b[0;34m(\u001b[0m\u001b[0mV\u001b[0m\u001b[0;34m)\u001b[0m\u001b[0;34m:\u001b[0m\u001b[0;34m\u001b[0m\u001b[0m\n\u001b[1;32m      2\u001b[0m         \u001b[0mj2\u001b[0m \u001b[0;34m=\u001b[0m \u001b[0mvictim_offsets\u001b[0m\u001b[0;34m[\u001b[0m\u001b[0mi\u001b[0m\u001b[0;34m+\u001b[0m\u001b[0;36m1\u001b[0m\u001b[0;34m]\u001b[0m\u001b[0;34m\u001b[0m\u001b[0m\n\u001b[0;32m----> 3\u001b[0;31m         \u001b[0msegment\u001b[0m \u001b[0;34m=\u001b[0m \u001b[0mfull_line\u001b[0m\u001b[0;34m[\u001b[0m\u001b[0mj\u001b[0m\u001b[0;34m:\u001b[0m\u001b[0mj2\u001b[0m\u001b[0;34m]\u001b[0m\u001b[0;34m\u001b[0m\u001b[0m\n\u001b[0m\u001b[1;32m      4\u001b[0m         \u001b[0msegment\u001b[0m\u001b[0;34m\u001b[0m\u001b[0m\n",
      "\u001b[0;31mTypeError\u001b[0m: slice indices must be integers or None or have an __index__ method"
     ]
    }
   ],
   "source": [
    "for i, j in enumerate(V):\n",
    "        j2 = victim_offsets[i+1]\n",
    "        segment = full_line[j:j2]\n",
    "        segment"
   ]
  },
  {
   "cell_type": "code",
   "execution_count": 48,
   "metadata": {
    "collapsed": true
   },
   "outputs": [],
   "source": [
    "def full_v(full_line):\n",
    "\n",
    "    victim_dict = {}\n",
    "    for i, j in enumerate(victim_offsets):\n",
    "        if i<len(victim_offsets) - 1:\n",
    "            j2 = victim_offsets[i+1]\n",
    "        else:\n",
    "            j2 = offender_offsets[0]\n",
    "        segment = full_line[j:j2]\n",
    "        segment = segment.strip()\n",
    "        if segment == '':\n",
    "            segment = None\n",
    "        \n",
    "        victim_dict[V[i]] = segment\n",
    "    return victim_dict"
   ]
  },
  {
   "cell_type": "code",
   "execution_count": 57,
   "metadata": {},
   "outputs": [
    {
     "data": {
      "text/plain": [
       "{'VA': '33', 'VE': 'H', 'VR': 'W', 'VS': 'M'}"
      ]
     },
     "execution_count": 57,
     "metadata": {},
     "output_type": "execute_result"
    }
   ],
   "source": [
    "full_v(full_line)"
   ]
  },
  {
   "cell_type": "code",
   "execution_count": null,
   "metadata": {
    "collapsed": true
   },
   "outputs": [],
   "source": []
  }
 ],
 "metadata": {
  "kernelspec": {
   "display_name": "Python 3",
   "language": "python",
   "name": "python3"
  },
  "language_info": {
   "codemirror_mode": {
    "name": "ipython",
    "version": 3
   },
   "file_extension": ".py",
   "mimetype": "text/x-python",
   "name": "python",
   "nbconvert_exporter": "python",
   "pygments_lexer": "ipython3",
   "version": "3.6.3"
  }
 },
 "nbformat": 4,
 "nbformat_minor": 2
}
