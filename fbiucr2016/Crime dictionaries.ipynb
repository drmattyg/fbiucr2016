{
 "cells": [
  {
   "cell_type": "markdown",
   "metadata": {},
   "source": [
    "### 1. Manually creating test output\n",
    "I pull out some test data. I make sure to include one of the 119 situation E cases (multiple offenders and multiple victims), so as to have partial lines which contain both offenders and victims. I manually create three dictionaries, to confirm that this is the format we are aiming for with my code. I can also use these to test my code against."
   ]
  },
  {
   "cell_type": "code",
   "execution_count": 76,
   "metadata": {
    "collapsed": true
   },
   "outputs": [],
   "source": [
    "import re\n",
    "import sys"
   ]
  },
  {
   "cell_type": "code",
   "execution_count": 77,
   "metadata": {
    "collapsed": true
   },
   "outputs": [],
   "source": [
    "with open('../data/2016 SHR FIle LIst.txt') as f:\n",
    "    lines = f.readlines()"
   ]
  },
  {
   "cell_type": "code",
   "execution_count": 78,
   "metadata": {
    "collapsed": true
   },
   "outputs": [],
   "source": [
    "H = [\"STATE_NUM\",\"AGENCY\",\"G\",\"MO\",\"HOM\",\"INC_NUM\",\"SIT\", \"VICTIMS\", \"OFFENDERS\",\"AGENCY NAME\",\"STATE\"\n",
    "] "
   ]
  },
  {
   "cell_type": "code",
   "execution_count": 79,
   "metadata": {
    "collapsed": true
   },
   "outputs": [],
   "source": [
    "V = [\"VA\",\"VS\",\"VR\",\"VE\"]"
   ]
  },
  {
   "cell_type": "code",
   "execution_count": 80,
   "metadata": {
    "collapsed": true
   },
   "outputs": [],
   "source": [
    "O = [\"OA\",\"OS\",\"OR\",\"OE\",\"OWEAP\",\"OREL\",\"OCIR\",\"OSUB\"]"
   ]
  },
  {
   "cell_type": "code",
   "execution_count": 81,
   "metadata": {
    "collapsed": true
   },
   "outputs": [],
   "source": [
    "test = lines[2181-1:2191-1]  #Atom: three lines 2181:2190"
   ]
  },
  {
   "cell_type": "code",
   "execution_count": 82,
   "metadata": {},
   "outputs": [
    {
     "data": {
      "text/plain": [
       "['B                                                           PAGE  53\\n',\n",
       " '1                                SUPPLEMENTARY HOMICIDE REPORT - FILE LISTING 2016                             UCR44300    07/07/17\\n',\n",
       " ' SWITCH = N                                     BY STATE WITHIN GROUP\\n',\n",
       " '0                                      VICTIM                 OFFENDER\\n',\n",
       " '      AGENCY   G MO HOM  INC#  SIT    A  S  R  E    A  S  R  E  WEAP  REL  CIR SUB        AGENCY NAME         STATE\\n',\n",
       " '0   04 CA03604 2 12  A    001   E    22  M  W  H   21  M  W  H   11    AQ   18       FONTANA                   CALIF\\n',\n",
       " '                                     22  M  W  H   19  M  B  N   11    AQ   18\\n',\n",
       " '0   04 CA03607 2 01  A    001   D    60  M  W  N   71  M  W  N   11    IL   26       ONTARIO                   CALIF\\n',\n",
       " '                                     59  F  W  N\\n',\n",
       " '    04 CA03607 2     A    002   A    33  M  W  H   37  M  W  H   11    FR   99       ONTARIO                   CALIF\\n']"
      ]
     },
     "execution_count": 82,
     "metadata": {},
     "output_type": "execute_result"
    }
   ],
   "source": [
    "test"
   ]
  },
  {
   "cell_type": "code",
   "execution_count": 83,
   "metadata": {
    "collapsed": true
   },
   "outputs": [],
   "source": [
    "crime1a = test[5]\n",
    "crime1b = test[6]\n",
    "crime2a = test[7]\n",
    "crime2b = test[8]\n",
    "crime3 = test[9]"
   ]
  },
  {
   "cell_type": "code",
   "execution_count": 84,
   "metadata": {},
   "outputs": [
    {
     "data": {
      "text/plain": [
       "'0   04 CA03604 2 12  A    001   E    22  M  W  H   21  M  W  H   11    AQ   18       FONTANA                   CALIF\\n'"
      ]
     },
     "execution_count": 84,
     "metadata": {},
     "output_type": "execute_result"
    }
   ],
   "source": [
    "crime1a"
   ]
  },
  {
   "cell_type": "code",
   "execution_count": 85,
   "metadata": {},
   "outputs": [
    {
     "data": {
      "text/plain": [
       "'                                     22  M  W  H   19  M  B  N   11    AQ   18\\n'"
      ]
     },
     "execution_count": 85,
     "metadata": {},
     "output_type": "execute_result"
    }
   ],
   "source": [
    "crime1b  #partial line with victim AND offender because 'SIT' == 'E'"
   ]
  },
  {
   "cell_type": "code",
   "execution_count": 86,
   "metadata": {
    "collapsed": true
   },
   "outputs": [],
   "source": [
    "#length 2 list of dictionaries\n",
    "crime1_v = [{ V[0]: '22', V[1]: 'M', V[2]: 'W', V[3]: 'H' }, { V[0]: '22', V[1]: 'M', V[2]: 'W', V[3]: 'H' }]\n",
    "#length 2 list of dictionaries\n",
    "crime1_o = [{ O[0]: '21', O[1]: 'M', O[2]: 'W', O[3]: 'H', O[4]: '11', O[5]: 'AQ', O[6]: '18', O[7]: ''}, { O[0]: '19', O[1]: 'M', O[2]: 'B', O[3]: 'N', O[4]: '11', O[5]: 'AQ', O[6]: '18', O[7]: ''}] \n",
    "crime1_dict = { H[0]: '04', H[1]: 'CA03604', H[2]: '2', H[3]: '12', H[4]: 'A', H[5]: '001', H[6]: 'E', H[7]: crime1_v, H[8]: crime1_o, H[9]: 'FONTANA', H[10]: 'CALIF'}"
   ]
  },
  {
   "cell_type": "code",
   "execution_count": 87,
   "metadata": {},
   "outputs": [
    {
     "data": {
      "text/plain": [
       "{'AGENCY': 'CA03604',\n",
       " 'AGENCY NAME': 'FONTANA',\n",
       " 'G': '2',\n",
       " 'HOM': 'A',\n",
       " 'INC_NUM': '001',\n",
       " 'MO': '12',\n",
       " 'OFFENDERS': [{'OA': '21',\n",
       "   'OCIR': '18',\n",
       "   'OE': 'H',\n",
       "   'OR': 'W',\n",
       "   'OREL': 'AQ',\n",
       "   'OS': 'M',\n",
       "   'OSUB': '',\n",
       "   'OWEAP': '11'},\n",
       "  {'OA': '19',\n",
       "   'OCIR': '18',\n",
       "   'OE': 'N',\n",
       "   'OR': 'B',\n",
       "   'OREL': 'AQ',\n",
       "   'OS': 'M',\n",
       "   'OSUB': '',\n",
       "   'OWEAP': '11'}],\n",
       " 'SIT': 'E',\n",
       " 'STATE': 'CALIF',\n",
       " 'STATE_NUM': '04',\n",
       " 'VICTIMS': [{'VA': '22', 'VE': 'H', 'VR': 'W', 'VS': 'M'},\n",
       "  {'VA': '22', 'VE': 'H', 'VR': 'W', 'VS': 'M'}]}"
      ]
     },
     "execution_count": 87,
     "metadata": {},
     "output_type": "execute_result"
    }
   ],
   "source": [
    "crime1_dict"
   ]
  },
  {
   "cell_type": "code",
   "execution_count": 88,
   "metadata": {},
   "outputs": [
    {
     "data": {
      "text/plain": [
       "'0   04 CA03607 2 01  A    001   D    60  M  W  N   71  M  W  N   11    IL   26       ONTARIO                   CALIF\\n'"
      ]
     },
     "execution_count": 88,
     "metadata": {},
     "output_type": "execute_result"
    }
   ],
   "source": [
    "crime2a "
   ]
  },
  {
   "cell_type": "code",
   "execution_count": 89,
   "metadata": {},
   "outputs": [
    {
     "data": {
      "text/plain": [
       "'                                     59  F  W  N\\n'"
      ]
     },
     "execution_count": 89,
     "metadata": {},
     "output_type": "execute_result"
    }
   ],
   "source": [
    "crime2b"
   ]
  },
  {
   "cell_type": "code",
   "execution_count": 90,
   "metadata": {
    "collapsed": true
   },
   "outputs": [],
   "source": [
    "#length 2 list of victim dictionaries               \n",
    "crime2_v = [{ V[0]: '60', V[1]: 'M', V[2]: 'W', V[3]: 'N' }, {V[0]: '59', V[1]: 'F', V[2]: 'W', V[3]: 'N'}]\n",
    "#length 1 list of offender dictionaries\n",
    "crime2_o = [{ O[0]: '71', O[1]: 'M', O[2]: 'W', O[3]: 'N', O[4]: '11', O[5]: 'IL', O[6]: '26', O[7]: '', }] \n",
    "crime2_dict = { H[0]: '04', H[1]: 'CA03607', H[2]: '2', H[3]: '01', H[4]: 'A', H[5]: '001', H[6]: 'D', H[7]: crime2_v, H[8]: crime2_o, H[9]: 'ONTARIO', H[10]: 'CALIF'}  "
   ]
  },
  {
   "cell_type": "code",
   "execution_count": 91,
   "metadata": {},
   "outputs": [
    {
     "data": {
      "text/plain": [
       "{'AGENCY': 'CA03607',\n",
       " 'AGENCY NAME': 'ONTARIO',\n",
       " 'G': '2',\n",
       " 'HOM': 'A',\n",
       " 'INC_NUM': '001',\n",
       " 'MO': '01',\n",
       " 'OFFENDERS': [{'OA': '71',\n",
       "   'OCIR': '26',\n",
       "   'OE': 'N',\n",
       "   'OR': 'W',\n",
       "   'OREL': 'IL',\n",
       "   'OS': 'M',\n",
       "   'OSUB': '',\n",
       "   'OWEAP': '11'}],\n",
       " 'SIT': 'D',\n",
       " 'STATE': 'CALIF',\n",
       " 'STATE_NUM': '04',\n",
       " 'VICTIMS': [{'VA': '60', 'VE': 'N', 'VR': 'W', 'VS': 'M'},\n",
       "  {'VA': '59', 'VE': 'N', 'VR': 'W', 'VS': 'F'}]}"
      ]
     },
     "execution_count": 91,
     "metadata": {},
     "output_type": "execute_result"
    }
   ],
   "source": [
    "crime2_dict"
   ]
  },
  {
   "cell_type": "code",
   "execution_count": 92,
   "metadata": {},
   "outputs": [
    {
     "data": {
      "text/plain": [
       "'    04 CA03607 2     A    002   A    33  M  W  H   37  M  W  H   11    FR   99       ONTARIO                   CALIF\\n'"
      ]
     },
     "execution_count": 92,
     "metadata": {},
     "output_type": "execute_result"
    }
   ],
   "source": [
    "crime3"
   ]
  },
  {
   "cell_type": "code",
   "execution_count": 220,
   "metadata": {
    "collapsed": true
   },
   "outputs": [],
   "source": [
    "#length 1 list of offender dictionaries\n",
    "crime3_v = [{ V[0]: '33', V[1]: 'M', V[2]: 'W', V[3]: 'H' }]\n",
    "#length 1 list of offender dictionaries\n",
    "crime3_o = [{ O[0]: '37', O[1]: 'M', O[2]: 'W', O[3]: 'H', O[4]: '11', O[5]: 'FR', O[6]: '99', O[7]: None, }] \n",
    "#When month is empty, we want to bring it down from previous crime\n",
    "crime3_dict = { H[0]: '04', H[1]: 'CA03607', H[2]: '2', H[3]: '01', H[4]: 'A', H[5]: '002', H[6]: 'A', H[7]: crime3_v, H[8]: crime3_o, H[9]: 'ONTARIO', H[10]: 'CALIF'}  "
   ]
  },
  {
   "cell_type": "code",
   "execution_count": 221,
   "metadata": {},
   "outputs": [
    {
     "data": {
      "text/plain": [
       "{'AGENCY': 'CA03607',\n",
       " 'AGENCY NAME': 'ONTARIO',\n",
       " 'G': '2',\n",
       " 'HOM': 'A',\n",
       " 'INC_NUM': '002',\n",
       " 'MO': '01',\n",
       " 'OFFENDERS': [{'OA': '37',\n",
       "   'OCIR': '99',\n",
       "   'OE': 'H',\n",
       "   'OR': 'W',\n",
       "   'OREL': 'FR',\n",
       "   'OS': 'M',\n",
       "   'OSUB': None,\n",
       "   'OWEAP': '11'}],\n",
       " 'SIT': 'A',\n",
       " 'STATE': 'CALIF',\n",
       " 'STATE_NUM': '04',\n",
       " 'VICTIMS': [{'VA': '33', 'VE': 'H', 'VR': 'W', 'VS': 'M'}]}"
      ]
     },
     "execution_count": 221,
     "metadata": {},
     "output_type": "execute_result"
    }
   ],
   "source": [
    "crime3_dict"
   ]
  },
  {
   "cell_type": "code",
   "execution_count": 224,
   "metadata": {},
   "outputs": [],
   "source": [
    "crime3_dict_no_mo = {'AGENCY': 'CA03607',\n",
    " 'AGENCY NAME': 'ONTARIO',\n",
    " 'G': '2',\n",
    " 'HOM': 'A',\n",
    " 'INC_NUM': '002',\n",
    " 'MO': None,\n",
    " 'OFFENDERS': [{'OA': '37',\n",
    "   'OCIR': '99',\n",
    "   'OE': 'H',\n",
    "   'OR': 'W',\n",
    "   'OREL': 'FR',\n",
    "   'OS': 'M',\n",
    "   'OSUB': None,\n",
    "   'OWEAP': '11'}],\n",
    " 'SIT': 'A',\n",
    " 'STATE': 'CALIF',\n",
    " 'STATE_NUM': '04',\n",
    " 'VICTIMS': [{'VA': '33', 'VE': 'H', 'VR': 'W', 'VS': 'M'}]}"
   ]
  },
  {
   "cell_type": "code",
   "execution_count": 246,
   "metadata": {},
   "outputs": [
    {
     "data": {
      "text/plain": [
       "{'AGENCY': 'CA03607',\n",
       " 'AGENCY NAME': 'ONTARIO',\n",
       " 'G': '2',\n",
       " 'HOM': 'A',\n",
       " 'INC_NUM': '002',\n",
       " 'MO': None,\n",
       " 'OFFENDERS': [{'OA': '37',\n",
       "   'OCIR': '99',\n",
       "   'OE': 'H',\n",
       "   'OR': 'W',\n",
       "   'OREL': 'FR',\n",
       "   'OS': 'M',\n",
       "   'OSUB': None,\n",
       "   'OWEAP': '11'}],\n",
       " 'SIT': 'A',\n",
       " 'STATE': 'CALIF',\n",
       " 'STATE_NUM': '04',\n",
       " 'VICTIMS': [{'VA': '33', 'VE': 'H', 'VR': 'W', 'VS': 'M'}]}"
      ]
     },
     "execution_count": 246,
     "metadata": {},
     "output_type": "execute_result"
    }
   ],
   "source": [
    "crime3_dict_no_mo"
   ]
  },
  {
   "cell_type": "markdown",
   "metadata": {},
   "source": [
    "Question 1: Do we want all dictionary values to be strings, even if they are actually integers - e.g. VA.\n",
    "A: integers are preferable. "
   ]
  },
  {
   "cell_type": "markdown",
   "metadata": {},
   "source": [
    "Question 2: Do we have an idea what the random 0 at the start of the line denotes? And do we want to discard it?\n",
    "A: discard."
   ]
  },
  {
   "cell_type": "markdown",
   "metadata": {
    "collapsed": true
   },
   "source": [
    "Question 3: Am I correct to code empty cells as '' ?\n",
    "A: None"
   ]
  },
  {
   "cell_type": "markdown",
   "metadata": {},
   "source": [
    "Question 4: Ultimately, what should I do with individual crime dictionaries? Put them each in separate files? Or collect them all into one big object (such as dictionary)? We would then use json.dump(dict, file) to convert to json.\n",
    "A: List of dictionaries"
   ]
  },
  {
   "cell_type": "markdown",
   "metadata": {},
   "source": [
    "Question 5: Do we want to create a unique id for each crime?\n",
    "A: 1). integer numbers. SHR0, SHR1.\n",
    "2). UUID. Unique identifier."
   ]
  },
  {
   "cell_type": "markdown",
   "metadata": {},
   "source": [
    "### 2. Standardising data"
   ]
  },
  {
   "cell_type": "markdown",
   "metadata": {},
   "source": [
    "##### 1). Full Line"
   ]
  },
  {
   "cell_type": "code",
   "execution_count": 168,
   "metadata": {
    "collapsed": true
   },
   "outputs": [],
   "source": [
    "victim_offsets1 = [38, 42, 45, 48]\n",
    "offender_offsets1 = [52, 56, 59, 62, 66, 72, 77, 82]\n",
    "crime_offsets1 = [5, 8, 16, 18, 22, 27, 33, 86, 112]"
   ]
  },
  {
   "cell_type": "code",
   "execution_count": 200,
   "metadata": {},
   "outputs": [
    {
     "data": {
      "text/plain": [
       "[4, 7, 15, 17, 21, 26, 32, 85, 111]"
      ]
     },
     "execution_count": 200,
     "metadata": {},
     "output_type": "execute_result"
    }
   ],
   "source": [
    "#Starting from 1, number of bytes to the left\n",
    "\n",
    "crime_offsets = [(i-1) for i in crime_offsets1]\n",
    "victim_offsets = [(i-1) for i in victim_offsets1]\n",
    "offender_offsets = [(i-1) for i in offender_offsets1]"
   ]
  },
  {
   "cell_type": "code",
   "execution_count": 194,
   "metadata": {
    "collapsed": true
   },
   "outputs": [],
   "source": [
    "crime_offsets.insert(7, victim_offsets)\n",
    "crime_offsets.insert(8, offender_offsets)"
   ]
  },
  {
   "cell_type": "code",
   "execution_count": 195,
   "metadata": {
    "collapsed": true
   },
   "outputs": [],
   "source": [
    "crime_offsets = [4, 7, 15, 17, 21, 26, 32, [37, 41, 44, 47], [51, 55, 58, 61, 65, 71, 76, 81], 85, 111]"
   ]
  },
  {
   "cell_type": "code",
   "execution_count": 196,
   "metadata": {},
   "outputs": [],
   "source": [
    "crime_offsets.append(len(crime3)-1)  #end of \"State\" field"
   ]
  },
  {
   "cell_type": "code",
   "execution_count": 197,
   "metadata": {
    "collapsed": true
   },
   "outputs": [],
   "source": [
    "def create_tuples(l):\n",
    "    '''\n",
    "    Helper function for getting offsets.\n",
    "    Takes a list of crime offset positions, and returns list of tuples of start and end offsets for each field\n",
    "    '''\n",
    "    crime_tuples = []\n",
    "    for i, j in enumerate(l):\n",
    "        #exclude final element\n",
    "        if i != len(l)-1:\n",
    "            j1 = l[i+1]\n",
    "            #flat fields\n",
    "            if type(j) == int:\n",
    "                if type(j1) == int:\n",
    "                    t = (j, j1)\n",
    "                else:\n",
    "                    t = (j, j1[0])\n",
    "                crime_tuples.append(t)\n",
    "            #victim and offender\n",
    "            else:\n",
    "                sub_list = []\n",
    "                for index, val in enumerate(j):\n",
    "                    if index != len(j)-1:\n",
    "                        val1 = j[index + 1]\n",
    "                        t = (val, val1)\n",
    "                    else:\n",
    "                        if type(j1) == int:\n",
    "                            t = (val, j1)\n",
    "                        else:\n",
    "                            t = (val, j1[0])\n",
    "                    sub_list.append(t)\n",
    "                crime_tuples.append(sub_list)\n",
    "    return crime_tuples"
   ]
  },
  {
   "cell_type": "code",
   "execution_count": 198,
   "metadata": {},
   "outputs": [
    {
     "data": {
      "text/plain": [
       "[(4, 7),\n",
       " (7, 15),\n",
       " (15, 17),\n",
       " (17, 21),\n",
       " (21, 26),\n",
       " (26, 32),\n",
       " (32, 37),\n",
       " [(37, 41), (41, 44), (44, 47), (47, 51)],\n",
       " [(51, 55),\n",
       "  (55, 58),\n",
       "  (58, 61),\n",
       "  (61, 65),\n",
       "  (65, 71),\n",
       "  (71, 76),\n",
       "  (76, 81),\n",
       "  (81, 85)],\n",
       " (85, 111),\n",
       " (111, 116)]"
      ]
     },
     "execution_count": 198,
     "metadata": {},
     "output_type": "execute_result"
    }
   ],
   "source": [
    "crime_tuples = create_tuples(crime_offsets)\n",
    "crime_tuples"
   ]
  },
  {
   "cell_type": "code",
   "execution_count": 175,
   "metadata": {
    "collapsed": true
   },
   "outputs": [],
   "source": [
    "victim_headers = [\"VA\",\"VS\",\"VR\",\"VE\"]"
   ]
  },
  {
   "cell_type": "code",
   "execution_count": 176,
   "metadata": {
    "collapsed": true
   },
   "outputs": [],
   "source": [
    "offender_headers = [\"OA\",\"OS\",\"OR\",\"OE\",\"OWEAP\",\"OREL\",\"OCIR\",\"OSUB\"]"
   ]
  },
  {
   "cell_type": "code",
   "execution_count": 177,
   "metadata": {
    "collapsed": true
   },
   "outputs": [],
   "source": [
    "crime_headers = [\"STATE_NUM\",\"AGENCY\",\"G\",\"MO\",\"HOM\",\"INC_NUM\",\"SIT\", \"VICTIMS\", \"OFFENDERS\", \"AGENCY NAME\",\"STATE\"\n",
    "] "
   ]
  },
  {
   "cell_type": "code",
   "execution_count": 178,
   "metadata": {
    "collapsed": true
   },
   "outputs": [],
   "source": [
    "def create_dict(positions, headers):\n",
    "    '''\n",
    "    Helper function for getting offsets.\n",
    "    Take list of crime tuples of positions, and a list of the same length with \n",
    "    header strings and combine them into a dictionary.\n",
    "    '''\n",
    "    d = {}\n",
    "    for i, j in enumerate(positions):\n",
    "        header = headers[i]\n",
    "        d[header] = j\n",
    "    return d"
   ]
  },
  {
   "cell_type": "code",
   "execution_count": 182,
   "metadata": {},
   "outputs": [
    {
     "data": {
      "text/plain": [
       "(11, 11)"
      ]
     },
     "execution_count": 182,
     "metadata": {},
     "output_type": "execute_result"
    }
   ],
   "source": [
    "len(crime_tuples), len(crime_headers)"
   ]
  },
  {
   "cell_type": "code",
   "execution_count": 179,
   "metadata": {},
   "outputs": [],
   "source": [
    "crime_dict = create_dict(crime_tuples, crime_headers)"
   ]
  },
  {
   "cell_type": "code",
   "execution_count": 180,
   "metadata": {},
   "outputs": [],
   "source": [
    "victim_dict = create_dict(crime_dict['VICTIMS'], victim_headers)"
   ]
  },
  {
   "cell_type": "code",
   "execution_count": 181,
   "metadata": {},
   "outputs": [],
   "source": [
    "offender_dict = create_dict(crime_dict['OFFENDERS'], offender_headers)"
   ]
  },
  {
   "cell_type": "code",
   "execution_count": 164,
   "metadata": {},
   "outputs": [
    {
     "data": {
      "text/plain": [
       "{'AGENCY': (7, 15),\n",
       " 'AGENCY NAME': (85, 111),\n",
       " 'G': (15, 17),\n",
       " 'HOM': (21, 26),\n",
       " 'INC_NUM': (26, 32),\n",
       " 'MO': (17, 21),\n",
       " 'OFFENDERS': [(51, 55),\n",
       "  (55, 58),\n",
       "  (58, 61),\n",
       "  (61, 65),\n",
       "  (65, 71),\n",
       "  (71, 76),\n",
       "  (76, 81),\n",
       "  (81, 85)],\n",
       " 'SIT': (32, 37),\n",
       " 'STATE': (111, 116),\n",
       " 'STATE_NUM': (4, 7),\n",
       " 'VICTIMS': [(37, 41), (41, 44), (44, 47), (47, 51)]}"
      ]
     },
     "execution_count": 164,
     "metadata": {},
     "output_type": "execute_result"
    }
   ],
   "source": [
    "crime_dict"
   ]
  },
  {
   "cell_type": "code",
   "execution_count": 205,
   "metadata": {
    "collapsed": true
   },
   "outputs": [],
   "source": [
    "def get_offsets_full(crime_offsets, crime_headers, victim_headers, offender_headers, line):\n",
    "    \n",
    "    crime_offsets.append(len(line)-1)\n",
    "    \n",
    "    crime_tuples = create_tuples(crime_offsets)\n",
    "    \n",
    "    assert len(crime_tuples) == len(crime_headers)\n",
    "    crime_dict = create_dict(crime_tuples, crime_headers)\n",
    "    \n",
    "    victim_dict = create_dict(crime_dict['VICTIMS'], victim_headers)\n",
    "    offender_dict = create_dict(crime_dict['OFFENDERS'], offender_headers)\n",
    "    crime_dict['VICTIMS'] = victim_dict\n",
    "    crime_dict['OFFENDERS'] = offender_dict\n",
    "    \n",
    "    return crime_dict"
   ]
  },
  {
   "cell_type": "markdown",
   "metadata": {},
   "source": [
    "Try with crime 3"
   ]
  },
  {
   "cell_type": "code",
   "execution_count": 227,
   "metadata": {},
   "outputs": [
    {
     "data": {
      "text/plain": [
       "{'AGENCY': (7, 15),\n",
       " 'AGENCY NAME': (85, 111),\n",
       " 'G': (15, 17),\n",
       " 'HOM': (21, 26),\n",
       " 'INC_NUM': (26, 32),\n",
       " 'MO': (17, 21),\n",
       " 'OFFENDERS': {'OA': (51, 55),\n",
       "  'OCIR': (76, 81),\n",
       "  'OE': (61, 65),\n",
       "  'OR': (58, 61),\n",
       "  'OREL': (71, 76),\n",
       "  'OS': (55, 58),\n",
       "  'OSUB': (81, 85),\n",
       "  'OWEAP': (65, 71)},\n",
       " 'SIT': (32, 37),\n",
       " 'STATE': (111, 116),\n",
       " 'STATE_NUM': (4, 7),\n",
       " 'VICTIMS': {'VA': (37, 41), 'VE': (47, 51), 'VR': (44, 47), 'VS': (41, 44)}}"
      ]
     },
     "execution_count": 227,
     "metadata": {},
     "output_type": "execute_result"
    }
   ],
   "source": [
    "crime_offsets = [4, 7, 15, 17, 21, 26, 32, [37, 41, 44, 47], [51, 55, 58, 61, 65, 71, 76, 81], 85, 111]\n",
    "crime3_offsets_dict = get_offsets_full(crime_offsets, crime_headers, victim_headers, offender_headers, crime3)\n",
    "crime3_offsets_dict"
   ]
  },
  {
   "cell_type": "code",
   "execution_count": 256,
   "metadata": {
    "collapsed": true
   },
   "outputs": [],
   "source": [
    "def process_line(offsets_dict, line):\n",
    "    d = {}\n",
    "    for key, value in offsets_dict.items():\n",
    "        #Base case\n",
    "        if type(value) != dict:\n",
    "            string = line[value[0]:value[1]]\n",
    "            stripped = string.strip()\n",
    "            if stripped == '':\n",
    "                stripped = None\n",
    "            d[key] = stripped\n",
    "        #Recursive case(value is a dictionary)\n",
    "        else:\n",
    "            val = process_line(value, line)\n",
    "            d[key] = [val]\n",
    "    return d"
   ]
  },
  {
   "cell_type": "code",
   "execution_count": 257,
   "metadata": {},
   "outputs": [
    {
     "data": {
      "text/plain": [
       "{'AGENCY': 'CA03607',\n",
       " 'AGENCY NAME': 'ONTARIO',\n",
       " 'G': '2',\n",
       " 'HOM': 'A',\n",
       " 'INC_NUM': '002',\n",
       " 'MO': None,\n",
       " 'OFFENDERS': [{'OA': '37',\n",
       "   'OCIR': '99',\n",
       "   'OE': 'H',\n",
       "   'OR': 'W',\n",
       "   'OREL': 'FR',\n",
       "   'OS': 'M',\n",
       "   'OSUB': None,\n",
       "   'OWEAP': '11'}],\n",
       " 'SIT': 'A',\n",
       " 'STATE': 'CALIF',\n",
       " 'STATE_NUM': '04',\n",
       " 'VICTIMS': [{'VA': '33', 'VE': 'H', 'VR': 'W', 'VS': 'M'}]}"
      ]
     },
     "execution_count": 257,
     "metadata": {},
     "output_type": "execute_result"
    }
   ],
   "source": [
    "crime3_d = process_line(crime3_offsets_dict, crime3)\n",
    "crime3_d"
   ]
  },
  {
   "cell_type": "code",
   "execution_count": 258,
   "metadata": {},
   "outputs": [
    {
     "data": {
      "text/plain": [
       "True"
      ]
     },
     "execution_count": 258,
     "metadata": {},
     "output_type": "execute_result"
    }
   ],
   "source": [
    "crime3_d == crime3_dict_no_mo"
   ]
  },
  {
   "cell_type": "code",
   "execution_count": 259,
   "metadata": {
    "collapsed": true
   },
   "outputs": [],
   "source": [
    "def full_line(crime_offsets, crime_headers, victim_headers, offender_headers, line):\n",
    "    '''\n",
    "    Provide a list of crime offsets, with victim and offender as sublists, lists of headers and the full line.\n",
    "    Returns complete dictionary for full line.\n",
    "    '''\n",
    "    offsets_dict = get_offsets_full(crime_offsets, crime_headers, victim_headers, offender_headers, line)\n",
    "    d = process_line(offsets_dict, line)\n",
    "    return d"
   ]
  },
  {
   "cell_type": "markdown",
   "metadata": {},
   "source": [
    "##### Testing function"
   ]
  },
  {
   "cell_type": "code",
   "execution_count": 261,
   "metadata": {},
   "outputs": [
    {
     "data": {
      "text/plain": [
       "{'AGENCY': 'CA03607',\n",
       " 'AGENCY NAME': 'ONTARIO',\n",
       " 'G': '2',\n",
       " 'HOM': 'A',\n",
       " 'INC_NUM': '002',\n",
       " 'MO': None,\n",
       " 'OFFENDERS': [{'OA': '37',\n",
       "   'OCIR': '99',\n",
       "   'OE': 'H',\n",
       "   'OR': 'W',\n",
       "   'OREL': 'FR',\n",
       "   'OS': 'M',\n",
       "   'OSUB': None,\n",
       "   'OWEAP': '11'}],\n",
       " 'SIT': 'A',\n",
       " 'STATE': 'CALIF',\n",
       " 'STATE_NUM': '04',\n",
       " 'VICTIMS': [{'VA': '33', 'VE': 'H', 'VR': 'W', 'VS': 'M'}]}"
      ]
     },
     "execution_count": 261,
     "metadata": {},
     "output_type": "execute_result"
    }
   ],
   "source": [
    "crime_offsets = [4, 7, 15, 17, 21, 26, 32, [37, 41, 44, 47], [51, 55, 58, 61, 65, 71, 76, 81], 85, 111]\n",
    "crime3_d = full_line(crime_offsets, crime_headers, victim_headers, offender_headers, crime3)\n",
    "crime3_d "
   ]
  },
  {
   "cell_type": "code",
   "execution_count": 263,
   "metadata": {},
   "outputs": [
    {
     "data": {
      "text/plain": [
       "True"
      ]
     },
     "execution_count": 263,
     "metadata": {},
     "output_type": "execute_result"
    }
   ],
   "source": [
    "crime3_d == crime3_dict_no_mo"
   ]
  },
  {
   "cell_type": "markdown",
   "metadata": {},
   "source": [
    "Test passed."
   ]
  }
 ],
 "metadata": {
  "kernelspec": {
   "display_name": "Python 3",
   "language": "python",
   "name": "python3"
  },
  "language_info": {
   "codemirror_mode": {
    "name": "ipython",
    "version": 3
   },
   "file_extension": ".py",
   "mimetype": "text/x-python",
   "name": "python",
   "nbconvert_exporter": "python",
   "pygments_lexer": "ipython3",
   "version": "3.6.3"
  }
 },
 "nbformat": 4,
 "nbformat_minor": 2
}
