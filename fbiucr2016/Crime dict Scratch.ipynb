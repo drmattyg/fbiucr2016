{
 "cells": [
  {
   "cell_type": "code",
   "execution_count": null,
   "metadata": {
    "collapsed": true
   },
   "outputs": [],
   "source": [
    "# function to deal with full lines:\n",
    "def full(full_line):\n",
    "    crime_dict = {}\n",
    "    \n",
    "    victim_dict = {}\n",
    "    for i, j in enumerate(victim_offsets):\n",
    "        j2 = victim_offsets[i+1]\n",
    "        segment = full_line[j:j2]\n",
    "        segment = segment.strip()\n",
    "        if segment == '':\n",
    "            segment = None\n",
    "        \n",
    "        victim_dict[V[i]] = segment\n",
    "        \n",
    "    victim_list = [victim_dict]\n",
    "    \n",
    "    offender_dict = {}\n",
    "    \n",
    "    \n",
    "        \n",
    "    \n",
    "    \n",
    "    for i in range(len(H)):\n",
    "        \n",
    "        crime_dict[H(i)] = L(i)"
   ]
  },
  {
   "cell_type": "code",
   "execution_count": null,
   "metadata": {
    "collapsed": true
   },
   "outputs": [],
   "source": [
    "for i, j in enumerate(victim_offsets):\n",
    "    print (i, j)"
   ]
  },
  {
   "cell_type": "code",
   "execution_count": null,
   "metadata": {
    "collapsed": true
   },
   "outputs": [],
   "source": [
    "j2 = victim_offsets[1]\n",
    "segment = full_line[37:41]\n",
    "segment = segment.strip()\n",
    "if segment == '':\n",
    "    segment = None\n",
    "\n"
   ]
  },
  {
   "cell_type": "code",
   "execution_count": null,
   "metadata": {
    "collapsed": true
   },
   "outputs": [],
   "source": [
    "full_line = test[9]\n",
    "full_line"
   ]
  },
  {
   "cell_type": "code",
   "execution_count": null,
   "metadata": {
    "collapsed": true
   },
   "outputs": [],
   "source": [
    "for i, j in enumerate(V):\n",
    "        j2 = victim_offsets[i+1]\n",
    "        segment = full_line[j:j2]\n",
    "        segment"
   ]
  },
  {
   "cell_type": "code",
   "execution_count": null,
   "metadata": {
    "collapsed": true
   },
   "outputs": [],
   "source": [
    "def full_v(full_line):\n",
    "\n",
    "    victim_dict = {}\n",
    "    for i, j in enumerate(victim_offsets):\n",
    "        if i<len(victim_offsets) - 1:\n",
    "            j2 = victim_offsets[i+1]\n",
    "        else:\n",
    "            j2 = offender_offsets[0]\n",
    "        segment = full_line[j:j2]\n",
    "        segment = segment.strip()\n",
    "        if segment == '':\n",
    "            segment = None\n",
    "        \n",
    "        victim_dict[V[i]] = segment\n",
    "    return victim_dict"
   ]
  },
  {
   "cell_type": "code",
   "execution_count": null,
   "metadata": {
    "collapsed": true
   },
   "outputs": [],
   "source": [
    "full_v(full_line)"
   ]
  },
  {
   "cell_type": "code",
   "execution_count": 5,
   "metadata": {},
   "outputs": [
    {
     "data": {
      "text/plain": [
       "True"
      ]
     },
     "execution_count": 5,
     "metadata": {},
     "output_type": "execute_result"
    }
   ],
   "source": [
    "a = {'VA': (37, 41), 'VE': (47, 51), 'VR': (44, 47), 'VS': (41, 44)}\n",
    "b = (37,41)\n",
    "type(a) != dict\n",
    "type(b) != dict"
   ]
  },
  {
   "cell_type": "code",
   "execution_count": null,
   "metadata": {
    "collapsed": true
   },
   "outputs": [],
   "source": []
  },
  {
   "cell_type": "code",
   "execution_count": null,
   "metadata": {
    "collapsed": true
   },
   "outputs": [],
   "source": []
  }
 ],
 "metadata": {
  "kernelspec": {
   "display_name": "Python 3",
   "language": "python",
   "name": "python3"
  },
  "language_info": {
   "codemirror_mode": {
    "name": "ipython",
    "version": 3
   },
   "file_extension": ".py",
   "mimetype": "text/x-python",
   "name": "python",
   "nbconvert_exporter": "python",
   "pygments_lexer": "ipython3",
   "version": "3.6.3"
  }
 },
 "nbformat": 4,
 "nbformat_minor": 2
}
